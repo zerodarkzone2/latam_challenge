{
 "cells": [
  {
   "cell_type": "markdown",
   "metadata": {},
   "source": [
    "En este archivo puedes escribir lo que estimes conveniente. Te recomendamos detallar tu solución y todas las suposiciones que estás considerando. Aquí puedes ejecutar las funciones que definiste en los otros archivos de la carpeta src, medir el tiempo, memoria, etc."
   ]
  },
  {
   "cell_type": "code",
   "execution_count": 1,
   "outputs": [],
   "source": [
    "%load_ext memory_profiler"
   ],
   "metadata": {
    "collapsed": false,
    "ExecuteTime": {
     "end_time": "2023-11-17T00:08:03.746218400Z",
     "start_time": "2023-11-17T00:08:03.702626600Z"
    }
   }
  },
  {
   "cell_type": "code",
   "execution_count": 2,
   "metadata": {
    "ExecuteTime": {
     "end_time": "2023-11-17T00:08:04.699330700Z",
     "start_time": "2023-11-17T00:08:04.659357Z"
    }
   },
   "outputs": [],
   "source": [
    "file_path = \"farmers-protest-tweets-2021-2-4.json\""
   ]
  },
  {
   "cell_type": "markdown",
   "source": [
    "# Eficiencia\n",
    "Primero se desarrollaron las funciones pensando en la facilidad de desarrollo y en el rendimiento del mismo.\n",
    "\n",
    "Para ésto, se decidió utilizar la librería de python **polars** la cuál utiliza una estructura de datos llamada **DataFrame**. Los **DataFrames** permiten expresar transformaciones complejas de una manera eficiente y sencilla. A diferencia de **pandas**, **polars** intenta ejecutar las operaciones de forma paralela."
   ],
   "metadata": {
    "collapsed": false
   }
  },
  {
   "cell_type": "markdown",
   "source": [
    "## Q1"
   ],
   "metadata": {
    "collapsed": false
   }
  },
  {
   "cell_type": "code",
   "execution_count": 3,
   "outputs": [],
   "source": [
    "from q1_time import q1_time"
   ],
   "metadata": {
    "collapsed": false,
    "ExecuteTime": {
     "end_time": "2023-11-17T00:08:10.392484900Z",
     "start_time": "2023-11-17T00:08:10.341479300Z"
    }
   }
  },
  {
   "cell_type": "code",
   "execution_count": 4,
   "outputs": [
    {
     "data": {
      "text/plain": "[(datetime.date(2021, 2, 19), 'Preetm91'),\n (datetime.date(2021, 2, 23), 'Surrypuria'),\n (datetime.date(2021, 2, 20), 'MangalJ23056160'),\n (datetime.date(2021, 2, 17), 'RaaJVinderkaur'),\n (datetime.date(2021, 2, 16), 'jot__b'),\n (datetime.date(2021, 2, 13), 'MaanDee08215437'),\n (datetime.date(2021, 2, 14), 'rebelpacifist'),\n (datetime.date(2021, 2, 12), 'RanbirS00614606'),\n (datetime.date(2021, 2, 18), 'neetuanjle_nitu'),\n (datetime.date(2021, 2, 15), 'jot__b')]"
     },
     "execution_count": 4,
     "metadata": {},
     "output_type": "execute_result"
    }
   ],
   "source": [
    "q1_time(file_path)"
   ],
   "metadata": {
    "collapsed": false,
    "ExecuteTime": {
     "end_time": "2023-11-17T00:08:20.100101Z",
     "start_time": "2023-11-17T00:08:12.311232100Z"
    }
   }
  },
  {
   "cell_type": "code",
   "execution_count": 5,
   "outputs": [
    {
     "name": "stdout",
     "output_type": "stream",
     "text": [
      "7.62 s ± 375 ms per loop (mean ± std. dev. of 7 runs, 1 loop each)\n"
     ]
    }
   ],
   "source": [
    "%%timeit \n",
    "q1_time(file_path)"
   ],
   "metadata": {
    "collapsed": false,
    "ExecuteTime": {
     "end_time": "2023-11-17T00:09:21.167456900Z",
     "start_time": "2023-11-17T00:08:20.097883800Z"
    }
   }
  },
  {
   "cell_type": "code",
   "execution_count": 6,
   "outputs": [
    {
     "name": "stdout",
     "output_type": "stream",
     "text": [
      "peak memory: 1900.14 MiB, increment: 1446.77 MiB\n"
     ]
    }
   ],
   "source": [
    "%%memit\n",
    "q1_time(file_path)"
   ],
   "metadata": {
    "collapsed": false,
    "ExecuteTime": {
     "end_time": "2023-11-17T00:09:28.869586500Z",
     "start_time": "2023-11-17T00:09:21.167456900Z"
    }
   }
  },
  {
   "cell_type": "markdown",
   "source": [
    "## Q2"
   ],
   "metadata": {
    "collapsed": false
   }
  },
  {
   "cell_type": "code",
   "execution_count": 8,
   "outputs": [],
   "source": [
    "from q2_time import q2_time"
   ],
   "metadata": {
    "collapsed": false,
    "ExecuteTime": {
     "end_time": "2023-11-17T00:11:13.105865900Z",
     "start_time": "2023-11-17T00:11:13.069323400Z"
    }
   }
  },
  {
   "cell_type": "code",
   "execution_count": 9,
   "outputs": [
    {
     "data": {
      "text/plain": "[('🙏', 5049),\n ('😂', 3072),\n ('🚜', 2972),\n ('🌾', 2182),\n ('🇮🇳', 2086),\n ('🤣', 1668),\n ('✊', 1651),\n ('❤️', 1382),\n ('🙏🏻', 1317),\n ('💚', 1040)]"
     },
     "execution_count": 9,
     "metadata": {},
     "output_type": "execute_result"
    }
   ],
   "source": [
    "q2_time(file_path)"
   ],
   "metadata": {
    "collapsed": false,
    "ExecuteTime": {
     "end_time": "2023-11-17T00:11:33.292266200Z",
     "start_time": "2023-11-17T00:11:14.879007700Z"
    }
   }
  },
  {
   "cell_type": "code",
   "execution_count": 10,
   "outputs": [
    {
     "name": "stdout",
     "output_type": "stream",
     "text": [
      "18.4 s ± 492 ms per loop (mean ± std. dev. of 7 runs, 1 loop each)\n"
     ]
    }
   ],
   "source": [
    "%%timeit\n",
    "q2_time(file_path)"
   ],
   "metadata": {
    "collapsed": false,
    "ExecuteTime": {
     "end_time": "2023-11-17T00:14:06.693105600Z",
     "start_time": "2023-11-17T00:11:38.383211500Z"
    }
   }
  },
  {
   "cell_type": "code",
   "execution_count": 11,
   "outputs": [
    {
     "name": "stdout",
     "output_type": "stream",
     "text": [
      "peak memory: 670.12 MiB, increment: 402.51 MiB\n"
     ]
    }
   ],
   "source": [
    "%%memit\n",
    "q2_time(file_path)"
   ],
   "metadata": {
    "collapsed": false,
    "ExecuteTime": {
     "end_time": "2023-11-17T00:14:24.762445200Z",
     "start_time": "2023-11-17T00:14:06.693105600Z"
    }
   }
  },
  {
   "cell_type": "markdown",
   "source": [
    "## Q3"
   ],
   "metadata": {
    "collapsed": false
   }
  },
  {
   "cell_type": "code",
   "execution_count": 12,
   "outputs": [],
   "source": [
    "from q3_time import q3_time"
   ],
   "metadata": {
    "collapsed": false,
    "ExecuteTime": {
     "end_time": "2023-11-17T00:14:41.230364400Z",
     "start_time": "2023-11-17T00:14:41.191340Z"
    }
   }
  },
  {
   "cell_type": "code",
   "execution_count": 13,
   "outputs": [
    {
     "data": {
      "text/plain": "[('narendramodi', 2265),\n ('Kisanektamorcha', 1840),\n ('RakeshTikaitBKU', 1644),\n ('PMOIndia', 1427),\n ('RahulGandhi', 1146),\n ('GretaThunberg', 1048),\n ('RaviSinghKA', 1019),\n ('rihanna', 986),\n ('UNHumanRights', 962),\n ('meenaharris', 926)]"
     },
     "execution_count": 13,
     "metadata": {},
     "output_type": "execute_result"
    }
   ],
   "source": [
    "q3_time(file_path)"
   ],
   "metadata": {
    "collapsed": false,
    "ExecuteTime": {
     "end_time": "2023-11-17T00:14:54.987776400Z",
     "start_time": "2023-11-17T00:14:44.607305Z"
    }
   }
  },
  {
   "cell_type": "code",
   "execution_count": 14,
   "outputs": [
    {
     "name": "stdout",
     "output_type": "stream",
     "text": [
      "9.85 s ± 374 ms per loop (mean ± std. dev. of 7 runs, 1 loop each)\n"
     ]
    }
   ],
   "source": [
    "%%timeit\n",
    "q3_time(file_path)"
   ],
   "metadata": {
    "collapsed": false,
    "ExecuteTime": {
     "end_time": "2023-11-17T00:16:13.618118100Z",
     "start_time": "2023-11-17T00:14:54.986260200Z"
    }
   }
  },
  {
   "cell_type": "code",
   "execution_count": 15,
   "outputs": [
    {
     "name": "stdout",
     "output_type": "stream",
     "text": [
      "peak memory: 795.79 MiB, increment: 438.05 MiB\n"
     ]
    }
   ],
   "source": [
    "%%memit\n",
    "q3_time(file_path)"
   ],
   "metadata": {
    "collapsed": false,
    "ExecuteTime": {
     "end_time": "2023-11-17T00:16:24.567242700Z",
     "start_time": "2023-11-17T00:16:13.590929400Z"
    }
   }
  },
  {
   "cell_type": "markdown",
   "source": [
    "# Memoria\n",
    "Luego se desarrollaron las funciones pensando en optimizar el uso de memoria.\n",
    "\n",
    "Para ésto, se decidió utilizar la clase **Counter** de Python la cuál pertenece a la librería nativa **collections** sin utilizar ninguna librería que implemente **DataFrames** o similares. También, con el fin de ahorrar memoría, se decidio procesar el json linea a linea al momento de leero sin tenerlo completamente en memoría antes."
   ],
   "metadata": {
    "collapsed": false
   }
  },
  {
   "cell_type": "markdown",
   "source": [
    "## Q1"
   ],
   "metadata": {
    "collapsed": false
   }
  },
  {
   "cell_type": "code",
   "execution_count": 17,
   "outputs": [],
   "source": [
    "from q1_memory import q1_memory"
   ],
   "metadata": {
    "collapsed": false,
    "ExecuteTime": {
     "end_time": "2023-11-17T00:18:48.349819400Z",
     "start_time": "2023-11-17T00:18:48.324251600Z"
    }
   }
  },
  {
   "cell_type": "code",
   "execution_count": 18,
   "outputs": [
    {
     "data": {
      "text/plain": "[(datetime.date(2021, 2, 12), 'RanbirS00614606'),\n (datetime.date(2021, 2, 13), 'MaanDee08215437'),\n (datetime.date(2021, 2, 17), 'RaaJVinderkaur'),\n (datetime.date(2021, 2, 16), 'jot__b'),\n (datetime.date(2021, 2, 14), 'rebelpacifist'),\n (datetime.date(2021, 2, 18), 'neetuanjle_nitu'),\n (datetime.date(2021, 2, 15), 'jot__b'),\n (datetime.date(2021, 2, 20), 'MangalJ23056160'),\n (datetime.date(2021, 2, 23), 'Surrypuria'),\n (datetime.date(2021, 2, 19), 'Preetm91')]"
     },
     "execution_count": 18,
     "metadata": {},
     "output_type": "execute_result"
    }
   ],
   "source": [
    "q1_memory(file_path)"
   ],
   "metadata": {
    "collapsed": false,
    "ExecuteTime": {
     "end_time": "2023-11-17T00:19:06.183897400Z",
     "start_time": "2023-11-17T00:18:49.724111800Z"
    }
   }
  },
  {
   "cell_type": "code",
   "execution_count": 19,
   "outputs": [
    {
     "name": "stdout",
     "output_type": "stream",
     "text": [
      "15.8 s ± 1.23 s per loop (mean ± std. dev. of 7 runs, 1 loop each)\n"
     ]
    }
   ],
   "source": [
    "%%timeit \n",
    "q1_memory(file_path)"
   ],
   "metadata": {
    "collapsed": false,
    "ExecuteTime": {
     "end_time": "2023-11-17T00:21:12.997357800Z",
     "start_time": "2023-11-17T00:19:06.160767200Z"
    }
   }
  },
  {
   "cell_type": "code",
   "execution_count": 20,
   "outputs": [
    {
     "name": "stdout",
     "output_type": "stream",
     "text": [
      "peak memory: 363.84 MiB, increment: 0.00 MiB\n"
     ]
    }
   ],
   "source": [
    "%%memit \n",
    "q1_memory(file_path)"
   ],
   "metadata": {
    "collapsed": false,
    "ExecuteTime": {
     "end_time": "2023-11-17T00:21:29.859991900Z",
     "start_time": "2023-11-17T00:21:12.997357800Z"
    }
   }
  },
  {
   "cell_type": "markdown",
   "source": [
    "## Q2"
   ],
   "metadata": {
    "collapsed": false
   }
  },
  {
   "cell_type": "code",
   "execution_count": 21,
   "outputs": [],
   "source": [
    "from q2_memory import q2_memory"
   ],
   "metadata": {
    "collapsed": false,
    "ExecuteTime": {
     "end_time": "2023-11-17T00:21:29.870047200Z",
     "start_time": "2023-11-17T00:21:29.859991900Z"
    }
   }
  },
  {
   "cell_type": "code",
   "execution_count": 22,
   "outputs": [
    {
     "data": {
      "text/plain": "[('🙏', 5049),\n ('😂', 3072),\n ('🚜', 2972),\n ('🌾', 2182),\n ('🇮🇳', 2086),\n ('🤣', 1668),\n ('✊', 1651),\n ('❤️', 1382),\n ('🙏🏻', 1317),\n ('💚', 1040)]"
     },
     "execution_count": 22,
     "metadata": {},
     "output_type": "execute_result"
    }
   ],
   "source": [
    "q2_memory(file_path)"
   ],
   "metadata": {
    "collapsed": false,
    "ExecuteTime": {
     "end_time": "2023-11-17T00:21:47.585754400Z",
     "start_time": "2023-11-17T00:21:29.915191500Z"
    }
   }
  },
  {
   "cell_type": "code",
   "execution_count": 23,
   "outputs": [
    {
     "name": "stdout",
     "output_type": "stream",
     "text": [
      "18.3 s ± 531 ms per loop (mean ± std. dev. of 7 runs, 1 loop each)\n"
     ]
    }
   ],
   "source": [
    "%%timeit\n",
    "q2_memory(file_path)"
   ],
   "metadata": {
    "collapsed": false,
    "ExecuteTime": {
     "end_time": "2023-11-17T00:24:13.661852600Z",
     "start_time": "2023-11-17T00:21:47.584753500Z"
    }
   }
  },
  {
   "cell_type": "code",
   "execution_count": 24,
   "outputs": [
    {
     "name": "stdout",
     "output_type": "stream",
     "text": [
      "peak memory: 363.84 MiB, increment: 0.00 MiB\n"
     ]
    }
   ],
   "source": [
    "%%memit\n",
    "q2_memory(file_path)"
   ],
   "metadata": {
    "collapsed": false,
    "ExecuteTime": {
     "end_time": "2023-11-17T00:24:32.694870600Z",
     "start_time": "2023-11-17T00:24:13.647022Z"
    }
   }
  },
  {
   "cell_type": "markdown",
   "source": [
    "## Q3"
   ],
   "metadata": {
    "collapsed": false
   }
  },
  {
   "cell_type": "code",
   "execution_count": 25,
   "outputs": [],
   "source": [
    "from q3_memory import q3_memory"
   ],
   "metadata": {
    "collapsed": false,
    "ExecuteTime": {
     "end_time": "2023-11-17T00:24:32.701890700Z",
     "start_time": "2023-11-17T00:24:32.692348100Z"
    }
   }
  },
  {
   "cell_type": "code",
   "execution_count": 26,
   "outputs": [
    {
     "data": {
      "text/plain": "[('narendramodi', 2265),\n ('Kisanektamorcha', 1840),\n ('RakeshTikaitBKU', 1644),\n ('PMOIndia', 1427),\n ('RahulGandhi', 1146),\n ('GretaThunberg', 1048),\n ('RaviSinghKA', 1019),\n ('rihanna', 986),\n ('UNHumanRights', 962),\n ('meenaharris', 926)]"
     },
     "execution_count": 26,
     "metadata": {},
     "output_type": "execute_result"
    }
   ],
   "source": [
    "q3_memory(file_path)"
   ],
   "metadata": {
    "collapsed": false,
    "ExecuteTime": {
     "end_time": "2023-11-17T00:24:40.468735700Z",
     "start_time": "2023-11-17T00:24:32.746544400Z"
    }
   }
  },
  {
   "cell_type": "code",
   "execution_count": 27,
   "outputs": [
    {
     "name": "stdout",
     "output_type": "stream",
     "text": [
      "7.72 s ± 188 ms per loop (mean ± std. dev. of 7 runs, 1 loop each)\n"
     ]
    }
   ],
   "source": [
    "%%timeit\n",
    "q3_memory(file_path)"
   ],
   "metadata": {
    "collapsed": false,
    "ExecuteTime": {
     "end_time": "2023-11-17T00:25:42.614884Z",
     "start_time": "2023-11-17T00:24:40.467737900Z"
    }
   }
  },
  {
   "cell_type": "code",
   "execution_count": 28,
   "outputs": [
    {
     "name": "stdout",
     "output_type": "stream",
     "text": [
      "peak memory: 363.84 MiB, increment: 0.00 MiB\n"
     ]
    }
   ],
   "source": [
    "%%memit\n",
    "q3_memory(file_path)"
   ],
   "metadata": {
    "collapsed": false,
    "ExecuteTime": {
     "end_time": "2023-11-17T00:25:50.514958600Z",
     "start_time": "2023-11-17T00:25:42.583657200Z"
    }
   }
  },
  {
   "cell_type": "markdown",
   "source": [
    "## Comparación\n",
    "A continuación se presenta un resumen de los resultados de las diferentes funciones."
   ],
   "metadata": {
    "collapsed": false
   }
  },
  {
   "cell_type": "markdown",
   "source": [
    "| Function  | Time  | Peak Memory |\n",
    "|-----------|-------|-------------|\n",
    "| q1_time   | 7.62s | 1900MiB     |\n",
    "| q1_memory | 15.8s | 363MiB      |\n",
    "| q2_time   | 18.4s | 670MiB      |\n",
    "| q2_memory | 18.3s | 363MiB      |\n",
    "| q3_time   | 9.85s | 796MiB      |\n",
    "| q3_memory | 7.72s | 363MiB      |"
   ],
   "metadata": {
    "collapsed": false
   }
  },
  {
   "cell_type": "markdown",
   "source": [
    "Los resultados obtenidos fueron variados en cada una de las pruebas.\n",
    "\n",
    "Para la primera prueba se logró disminuir considerablemente el uso de memoria (se usó sólo el 20% de la memoria) duplicando el tiempo de ejecución. Se aprecia que para éste ejercicio donde la transformación exigida era la más compleja, el rendimiento ganado al usar polars es considerable además de que el código es mucho más fácil de entender.\n",
    "\n",
    "\n",
    "Para la segunda prueba, se logró disminuir el uso de memoria a la mitad conservando el rendimiento. Debido a que ambas soluciones usan la librería de **emoji**, ésta debe ser la que gobierna el tiempo de ejecución. La transformación solicitada fue un simple conteo por lo que la clase **Counter** de Python puede alcanzar el rendimiento de polars.\n",
    "\n",
    "\n",
    "En la tercera prueba tenemos un caso similar a la segunda, en donde el uso de memoria bajó a la mitad manteniendo el rendimiento (Incluso superandolo). Debido a que la transformación es simple, la diferencia entre polars y el **Counter** nativo de Python no es significativa.\n"
   ],
   "metadata": {
    "collapsed": false
   }
  },
  {
   "cell_type": "markdown",
   "source": [
    "## Conclusiones"
   ],
   "metadata": {
    "collapsed": false
   }
  },
  {
   "cell_type": "markdown",
   "source": [
    "* Pensar en optimizar un problema para disminuir el uso de memoria, puede ayudar también a mejorar el rendimiento.\n",
    "* Aunque las librerías que proveen un api de **DataFrame** permiten expresar transformaciones complejas de una manera simple y a demás suelen poseer un buen rendimiento, algunas veces utilizar las librerías nativas de Python puede ser una mejora en el rendimiento de las operaciones.\n",
    "* Mientras más complejas sean las transformaciones que se deben hacer a un conjunto de datos, mayor el beneficio de utilizar librerías especializadas en la transformación y exploración de datos. Si las pruebas no fueran simples agregaciones, sino que incluyeran operaciones más complejas como un **JOIN**, la implementación pensada en memoría sería muchísimo más compleja y probablemente habría una pérdida de rendimiento bastante considerable."
   ],
   "metadata": {
    "collapsed": false
   }
  },
  {
   "cell_type": "code",
   "execution_count": null,
   "outputs": [],
   "source": [],
   "metadata": {
    "collapsed": false
   }
  }
 ],
 "metadata": {
  "language_info": {
   "name": "python"
  },
  "orig_nbformat": 4,
  "kernelspec": {
   "name": "python3",
   "language": "python",
   "display_name": "Python 3 (ipykernel)"
  }
 },
 "nbformat": 4,
 "nbformat_minor": 2
}
